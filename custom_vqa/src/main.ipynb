{
 "cells": [
  {
   "cell_type": "code",
   "execution_count": 2,
   "metadata": {},
   "outputs": [],
   "source": [
    "import json\n",
    "import h5py\n",
    "\n",
    "import numpy as np"
   ]
  },
  {
   "cell_type": "code",
   "execution_count": 3,
   "metadata": {},
   "outputs": [],
   "source": [
    "PATH_TO_DATA = '../data/prepro/'"
   ]
  },
  {
   "cell_type": "markdown",
   "metadata": {},
   "source": [
    "***"
   ]
  },
  {
   "cell_type": "markdown",
   "metadata": {},
   "source": [
    "# Load/Process data"
   ]
  },
  {
   "cell_type": "code",
   "execution_count": 4,
   "metadata": {},
   "outputs": [
    {
     "name": "stdout",
     "output_type": "stream",
     "text": [
      "Vocabulary size: 12602\n",
      "Answers vocabulary size: 1000\n",
      "Train images: 82459\n",
      "Test images: 40504\n",
      "\n"
     ]
    }
   ],
   "source": [
    "data = json.load(open(PATH_TO_DATA + 'data_prepro.json', 'r'))\n",
    "\n",
    "idx2word = dict(data['ix_to_word'])\n",
    "idx2word = dict([(int(key), word) for key, word in idx2word.items()])\n",
    "\n",
    "idx2ans = dict(data['ix_to_ans'])\n",
    "idx2ans = dict([(int(key), word) for key, word in idx2ans.items()])\n",
    "\n",
    "train_images = data['unique_img_train']\n",
    "test_images = data['unique_img_test']\n",
    "\n",
    "\n",
    "print(f'Vocabulary size: {len(idx2word)}')\n",
    "print(f'Answers vocabulary size: {len(idx2ans)}')\n",
    "print(f'Train images: {len(train_images)}')\n",
    "print(f'Test images: {len(test_images)}')\n",
    "print()\n"
   ]
  },
  {
   "cell_type": "markdown",
   "metadata": {},
   "source": [
    "## Extract images ids"
   ]
  },
  {
   "cell_type": "code",
   "execution_count": 11,
   "metadata": {},
   "outputs": [],
   "source": [
    "def extract_ids(images_set):\n",
    "    for i in range(len(images_set)):\n",
    "        images_set[i] = images_set[i].split('.')[0].split('/')[1]\n",
    "        \n",
    "    return images_set\n",
    "\n",
    "train_images = extract_ids(train_images)\n",
    "test_images = extract_ids(test_images)"
   ]
  },
  {
   "cell_type": "markdown",
   "metadata": {},
   "source": [
    "## Main dataset"
   ]
  },
  {
   "cell_type": "code",
   "execution_count": 12,
   "metadata": {},
   "outputs": [
    {
     "name": "stdout",
     "output_type": "stream",
     "text": [
      "Dataset columns:\n",
      " ['MC_ans_test', 'answers', 'img_pos_test', 'img_pos_train', 'ques_length_test', 'ques_length_train', 'ques_test', 'ques_train', 'question_id_test', 'question_id_train']\n"
     ]
    }
   ],
   "source": [
    "dataset = h5py.File(PATH_TO_DATA + 'data_prepro.h5')\n",
    "\n",
    "print(f'Dataset columns:\\n {list(dataset.keys())}')"
   ]
  },
  {
   "cell_type": "markdown",
   "metadata": {},
   "source": [
    "### Process columns"
   ]
  },
  {
   "cell_type": "code",
   "execution_count": 13,
   "metadata": {},
   "outputs": [],
   "source": [
    "answers_train = np.array(dataset['answers'])\n",
    "\n",
    "ques_train = np.array(dataset['ques_train'])\n",
    "ques_test = np.array(dataset['ques_test'])\n",
    "\n",
    "img_pos_train = np.array(dataset['img_pos_train'])-1\n",
    "img_pos_test = np.array(dataset['img_pos_test'])-1"
   ]
  },
  {
   "cell_type": "markdown",
   "metadata": {},
   "source": [
    "### Init Image -> (Q, A) mappings"
   ]
  },
  {
   "cell_type": "code",
   "execution_count": 14,
   "metadata": {},
   "outputs": [],
   "source": [
    "def init_img_qa_map(images_set, ques_set, ans_set, img_pos):\n",
    "    size = len(images_set)\n",
    "    img_qa = dict()\n",
    "    \n",
    "    for i in range(size):\n",
    "        img_qa[images_set[img_pos[i]]] = (ques_set[i], ans_set[i])\n",
    "        \n",
    "    return img_qa\n",
    "\n",
    "\n",
    "train_img_qa = init_img_qa_map(train_images, ques_train, answers_train, img_pos_train)"
   ]
  },
  {
   "cell_type": "code",
   "execution_count": 15,
   "metadata": {},
   "outputs": [
    {
     "data": {
      "text/plain": [
       "(array([11106,  6749,  3713,  6221,  9618, 10940,  6069,     0,     0,\n",
       "            0,     0,     0,     0,     0,     0,     0,     0,     0,\n",
       "            0,     0,     0,     0,     0,     0,     0,     0],\n",
       "       dtype=uint32), 842)"
      ]
     },
     "execution_count": 15,
     "metadata": {},
     "output_type": "execute_result"
    }
   ],
   "source": [
    "train_img_qa['COCO_train2014_000000000030']"
   ]
  },
  {
   "cell_type": "markdown",
   "metadata": {},
   "source": [
    "***"
   ]
  }
 ],
 "metadata": {
  "kernelspec": {
   "display_name": "Python 3",
   "language": "python",
   "name": "python3"
  },
  "language_info": {
   "codemirror_mode": {
    "name": "ipython",
    "version": 3
   },
   "file_extension": ".py",
   "mimetype": "text/x-python",
   "name": "python",
   "nbconvert_exporter": "python",
   "pygments_lexer": "ipython3",
   "version": "3.7.2"
  }
 },
 "nbformat": 4,
 "nbformat_minor": 2
}
