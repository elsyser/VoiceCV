{
 "cells": [
  {
   "cell_type": "code",
   "execution_count": 1,
   "metadata": {},
   "outputs": [],
   "source": [
    "from string import punctuation\n",
    "\n",
    "import numpy as np\n",
    "from PIL import Image"
   ]
  },
  {
   "cell_type": "code",
   "execution_count": 2,
   "metadata": {},
   "outputs": [],
   "source": [
    "PATH_TO_DATA = '../data/'\n",
    "\n",
    "TEXT_FILES_DIR = PATH_TO_DATA + 'Flickr8k_text/'\n",
    "IMAGES_DIR = PATH_TO_DATA + 'Flickr8k_Dataset/'"
   ]
  },
  {
   "cell_type": "markdown",
   "metadata": {},
   "source": [
    "***"
   ]
  },
  {
   "cell_type": "markdown",
   "metadata": {},
   "source": [
    "## Understanding and formating the data"
   ]
  },
  {
   "cell_type": "code",
   "execution_count": 3,
   "metadata": {},
   "outputs": [
    {
     "name": "stdout",
     "output_type": "stream",
     "text": [
      "1000268201_693b08cb0e.jpg#0\tA child in a pink dress is climbing up a set of stairs in an entry way .\n",
      "1000268201_693b08cb0e.jpg#1\tA girl going into a wooden building .\n",
      "1000268201_693b08cb0e.jpg#2\tA little girl climbing into a wooden playhouse .\n",
      "1000268201_693b08cb0e.jpg#3\tA little girl climbing the stairs to her playhouse .\n",
      "1000268201_693b08cb0e.jpg#4\tA little girl in a pink dress going into a wooden cabin .\n",
      "1001773457_577c3a7d70.jpg#0\tA black dog and a spotted dog are fighting\n",
      "1001773457_577c3a7d70.jpg#1\tA black dog and a tri-colored dog playing with each other on the road .\n",
      "1001773457_577c3a7d70.jpg#2\tA black dog and a white dog with brown spots are staring at each other in the street .\n",
      "1001773457_577c3a7d70.jpg#3\tTwo dogs of different breeds looking at each other on the road .\n",
      "1001773457_577c3a7d70.jpg#4\tTwo dogs on pavement moving toward each other .\n"
     ]
    }
   ],
   "source": [
    "with open(TEXT_FILES_DIR + 'Flickr8k.token.txt', 'r') as flickr8_token:\n",
    "    raw_image_description = flickr8_token.read().split('\\n')[:-1]\n",
    "\n",
    "print('\\n'.join(raw_image_description[:10]))"
   ]
  },
  {
   "cell_type": "code",
   "execution_count": 4,
   "metadata": {},
   "outputs": [],
   "source": [
    "def get_dict_image_descriptions(raw_image_description):\n",
    "    image_descriptions = dict()\n",
    "    \n",
    "    i = 0\n",
    "    while i < len(raw_image_description):\n",
    "        img_name = raw_image_description[i].split('.')[0]\n",
    "        image_descriptions[img_name] = []\n",
    "        \n",
    "        while i < len(raw_image_description) and img_name == raw_image_description[i].split('.')[0]:\n",
    "            descr = raw_image_description[i].split('\\t')[1]\n",
    "            image_descriptions[img_name].append(descr)\n",
    "            i+=1\n",
    "            \n",
    "    return image_descriptions\n",
    "\n",
    "image_descriptions = get_dict_image_descriptions(raw_image_description)"
   ]
  },
  {
   "cell_type": "code",
   "execution_count": 5,
   "metadata": {},
   "outputs": [
    {
     "data": {
      "text/plain": [
       "['A brown and white dog is running through the snow .',\n",
       " 'A dog is running in the snow',\n",
       " 'A dog running through snow .',\n",
       " 'a white and brown dog is running through a snow covered field .',\n",
       " 'The white and brown dog is running over the surface of the snow .']"
      ]
     },
     "execution_count": 5,
     "metadata": {},
     "output_type": "execute_result"
    }
   ],
   "source": [
    "image_descriptions['101654506_8eb26cfb60']"
   ]
  },
  {
   "cell_type": "markdown",
   "metadata": {},
   "source": [
    "***"
   ]
  },
  {
   "cell_type": "markdown",
   "metadata": {},
   "source": [
    "## Data Cleaning"
   ]
  },
  {
   "cell_type": "code",
   "execution_count": 6,
   "metadata": {},
   "outputs": [],
   "source": [
    "def clean(sentence):\n",
    "    # Tokenize\n",
    "    tokens = sentence.split()\n",
    "    \n",
    "    # Lower Case\n",
    "    tokens = [token.lower() for token in tokens]\n",
    "    \n",
    "    # Remove punct\n",
    "    for i in range(len(tokens)):\n",
    "        tokens[i] = ''.join([ch for ch in tokens[i] if ch not in punctuation])\n",
    "    \n",
    "    # Remove hanging chars\n",
    "    tokens = [token for token in tokens if (len(token) > 1 or token == 'a')]\n",
    "    \n",
    "    # Remove tokens with digits in it\n",
    "    tokens = [token for token in tokens if token.isalpha()]\n",
    "    \n",
    "    return ' '.join(tokens)"
   ]
  },
  {
   "cell_type": "code",
   "execution_count": 7,
   "metadata": {},
   "outputs": [
    {
     "data": {
      "text/plain": [
       "'a hello are you'"
      ]
     },
     "execution_count": 7,
     "metadata": {},
     "output_type": "execute_result"
    }
   ],
   "source": [
    "clean(\n",
    "    'A HellO! How12 are yoU>??'\n",
    ")"
   ]
  },
  {
   "cell_type": "code",
   "execution_count": null,
   "metadata": {},
   "outputs": [],
   "source": []
  }
 ],
 "metadata": {
  "kernelspec": {
   "display_name": "Python 3",
   "language": "python",
   "name": "python3"
  },
  "language_info": {
   "codemirror_mode": {
    "name": "ipython",
    "version": 3
   },
   "file_extension": ".py",
   "mimetype": "text/x-python",
   "name": "python",
   "nbconvert_exporter": "python",
   "pygments_lexer": "ipython3",
   "version": "3.7.2"
  }
 },
 "nbformat": 4,
 "nbformat_minor": 2
}
